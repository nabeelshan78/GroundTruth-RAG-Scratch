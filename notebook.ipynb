{
 "cells": [
  {
   "cell_type": "code",
   "execution_count": 20,
   "id": "f2d42a7e-4caa-4a3f-9153-d840849ed850",
   "metadata": {
    "tags": []
   },
   "outputs": [
    {
     "name": "stdout",
     "output_type": "stream",
     "text": [
      "NEWS_DATA Samples: 870\n",
      "EMBEDDINGS Shape: (870, 768)\n"
     ]
    }
   ],
   "source": [
    "from utils import (\n",
    "    retrieve,\n",
    "    pprint,\n",
    "    generate_with_single_input,\n",
    "    read_dataframe,\n",
    "    display_widget\n",
    ")"
   ]
  },
  {
   "cell_type": "code",
   "execution_count": 2,
   "id": "710647e4-d5db-4585-8de0-e534b1a6a466",
   "metadata": {
    "tags": []
   },
   "outputs": [],
   "source": [
    "NEWS_DATA = read_dataframe(\"news_data.csv\")"
   ]
  },
  {
   "cell_type": "code",
   "execution_count": 3,
   "id": "5252a8ec-a542-44d8-9733-959508938e2d",
   "metadata": {
    "tags": []
   },
   "outputs": [
    {
     "data": {
      "text/plain": [
       "870"
      ]
     },
     "execution_count": 3,
     "metadata": {},
     "output_type": "execute_result"
    }
   ],
   "source": [
    "len(NEWS_DATA)"
   ]
  },
  {
   "cell_type": "code",
   "execution_count": 4,
   "id": "d4da5359-8943-4304-963d-2a65e182144d",
   "metadata": {
    "tags": []
   },
   "outputs": [
    {
     "name": "stdout",
     "output_type": "stream",
     "text": [
      "[\n",
      "  {\n",
      "    \"guid\": \"5dae28f191cfd1047f67c409e616fc3f\",\n",
      "    \"title\": \"Paris's Moulin Rouge loses windmill sails overnight\",\n",
      "    \"description\": \"The cause of the sails' collapse from the roof of the world famous cabaret club is not yet clear.\",\n",
      "    \"venue\": \"BBC\",\n",
      "    \"url\": \"https://www.bbc.co.uk/news/world-europe-68895836\",\n",
      "    \"published_at\": \"2024-04-25\",\n",
      "    \"updated_at\": \"2024-04-26\"\n",
      "  },\n",
      "  {\n",
      "    \"guid\": \"d2c3ff79d4e068911d05416ca061cd51\",\n",
      "    \"title\": \"Ukraine uses longer-range US missiles for first time\",\n",
      "    \"description\": \"Missiles secretly delivered this month have been used to strike Russian targets in Crimea, US media say.\",\n",
      "    \"venue\": \"BBC\",\n",
      "    \"url\": \"https://www.bbc.co.uk/news/world-europe-68893196\",\n",
      "    \"published_at\": \"2024-04-25\",\n",
      "    \"updated_at\": \"2024-04-26\"\n",
      "  }\n",
      "]\n"
     ]
    }
   ],
   "source": [
    "pprint(NEWS_DATA[9:11])"
   ]
  },
  {
   "cell_type": "code",
   "execution_count": null,
   "id": "2cbee8ad-63e0-4b5a-8fcf-b93427bced94",
   "metadata": {},
   "outputs": [],
   "source": []
  },
  {
   "cell_type": "code",
   "execution_count": 5,
   "id": "632ec519-8a18-44af-8d47-d9562ea300eb",
   "metadata": {
    "tags": []
   },
   "outputs": [],
   "source": [
    "def query_news(indices):\n",
    "    \"\"\"\n",
    "    Retrieves elements from a dataset based on specified indices.\n",
    "    \"\"\"\n",
    "     \n",
    "    output = [NEWS_DATA[index] for index in indices]\n",
    "    return output"
   ]
  },
  {
   "cell_type": "code",
   "execution_count": 6,
   "id": "0f8a4041-1c49-4c59-ba87-08dc0e669914",
   "metadata": {
    "tags": []
   },
   "outputs": [
    {
     "name": "stdout",
     "output_type": "stream",
     "text": [
      "[\n",
      "  {\n",
      "    \"guid\": \"e696224ac208878a5cec8bdc9f97c632\",\n",
      "    \"title\": \"Europe risks dying and faces big decisions - Macron\",\n",
      "    \"description\": \"The French president delivers a stark warning for Europe to act fast to survive in a changing world.\",\n",
      "    \"venue\": \"BBC\",\n",
      "    \"url\": \"https://www.bbc.co.uk/news/world-europe-68898887\",\n",
      "    \"published_at\": \"2024-04-25\",\n",
      "    \"updated_at\": \"2024-04-26\"\n",
      "  },\n",
      "  {\n",
      "    \"guid\": \"4f585bad8f61b715fbafe2f022ab0ae8\",\n",
      "    \"title\": \"Supreme Court divided on whether Trump has immunity\",\n",
      "    \"description\": \"The justices discussed immunity, coups, pardons, Operation Mongoose - and the future of democracy.\",\n",
      "    \"venue\": \"BBC\",\n",
      "    \"url\": \"https://www.bbc.co.uk/news/world-us-canada-68901817\",\n",
      "    \"published_at\": \"2024-04-25\",\n",
      "    \"updated_at\": \"2024-04-26\"\n",
      "  },\n",
      "  {\n",
      "    \"guid\": \"5dae28f191cfd1047f67c409e616fc3f\",\n",
      "    \"title\": \"Paris's Moulin Rouge loses windmill sails overnight\",\n",
      "    \"description\": \"The cause of the sails' collapse from the roof of the world famous cabaret club is not yet clear.\",\n",
      "    \"venue\": \"BBC\",\n",
      "    \"url\": \"https://www.bbc.co.uk/news/world-europe-68895836\",\n",
      "    \"published_at\": \"2024-04-25\",\n",
      "    \"updated_at\": \"2024-04-26\"\n",
      "  }\n",
      "]\n"
     ]
    }
   ],
   "source": [
    "indices = [3, 6, 9]\n",
    "pprint(query_news(indices))"
   ]
  },
  {
   "cell_type": "code",
   "execution_count": null,
   "id": "f5f9f345-82ed-46f4-b664-b36436970971",
   "metadata": {},
   "outputs": [],
   "source": []
  },
  {
   "cell_type": "code",
   "execution_count": 7,
   "id": "2ae160c9-363e-4683-8a69-7b490d4731c5",
   "metadata": {
    "tags": []
   },
   "outputs": [
    {
     "name": "stdout",
     "output_type": "stream",
     "text": [
      "[350 329]\n"
     ]
    }
   ],
   "source": [
    "indices = retrieve(\"Concerts in North America\", top_k=2)\n",
    "print(indices)"
   ]
  },
  {
   "cell_type": "code",
   "execution_count": 8,
   "id": "7988e59d-c38c-4999-a37c-1f07ea40df69",
   "metadata": {
    "tags": []
   },
   "outputs": [
    {
     "name": "stdout",
     "output_type": "stream",
     "text": [
      "As Taylor Swift tops $1bn in tour revenue, musicians playing smaller venues are facing pitiful fees and frequent losses. Should the state step in to save our live music scene?When you see a band playing to thousands of fans in a sun-drenched festival field, signing a record deal with a major label or playing endlessly from the airwaves, it’s easy to conjure an image of success that comes with some serious cash to boot – particularly when Taylor Swift has broken $1bn in revenue for her current Eras tour. But looks can be deceiving. “I don’t blame the public for seeing a band playing to 2,000 people and thinking they’re minted,” says artist manager Dan Potts. “But the reality is quite different.”Post-Covid there has been significant focus on grassroots music venues as they struggle to stay open. There’s been less focus on the actual ability of artists to tour these venues. David Martin, chief executive officer of the Featured Artists Coalition (FAC), says we’re in a “cost-of-touring crisis”. Pretty much every cost attached to touring – van hire, crew, travel, accommodation, food and drink – has gone up, while fees and audiences often have not. “[Playing] live is becoming financially unsustainable for many artists,” he says. “Artists are seeing [playing] live as a loss leader now. That’s if they can even afford to make it work in the first place.” Continue reading...\n"
     ]
    }
   ],
   "source": [
    "print(NEWS_DATA[350]['description'])"
   ]
  },
  {
   "cell_type": "code",
   "execution_count": 9,
   "id": "51d59f64-9799-478e-898d-42874a9e8688",
   "metadata": {
    "tags": []
   },
   "outputs": [
    {
     "name": "stdout",
     "output_type": "stream",
     "text": [
      "[\n",
      "  {\n",
      "    \"guid\": \"927257674585bb6ef669cf2c2f409fa7\",\n",
      "    \"title\": \"\\u2018The working class can\\u2019t afford it\\u2019: the shocking truth about the money bands make on tour\",\n",
      "    \"description\": \"As Taylor Swift tops $1bn in tour revenue, musicians playing smaller venues are facing pitiful fees and frequent losses. Should the state step in to save our live music scene?When you see a band playing to thousands of fans in a sun-drenched festival field, signing a record deal with a major label or playing endlessly from the airwaves, it\\u2019s easy to conjure an image of success that comes with some serious cash to boot \\u2013 particularly when Taylor Swift has broken $1bn in revenue for her current Eras tour. But looks can be deceiving. \\u201cI don\\u2019t blame the public for seeing a band playing to 2,000 people and thinking they\\u2019re minted,\\u201d says artist manager Dan Potts. \\u201cBut the reality is quite different.\\u201dPost-Covid there has been significant focus on grassroots music venues as they struggle to stay open. There\\u2019s been less focus on the actual ability of artists to tour these venues. David Martin, chief executive officer of the Featured Artists Coalition (FAC), says we\\u2019re in a \\u201ccost-of-touring crisis\\u201d. Pretty much every cost attached to touring \\u2013 van hire, crew, travel, accommodation, food and drink \\u2013 has gone up, while fees and audiences often have not. \\u201c[Playing] live is becoming financially unsustainable for many artists,\\u201d he says. \\u201cArtists are seeing [playing] live as a loss leader now. That\\u2019s if they can even afford to make it work in the first place.\\u201d Continue reading...\",\n",
      "    \"venue\": \"The Guardian\",\n",
      "    \"url\": \"https://www.theguardian.com/music/2024/apr/25/shocking-truth-money-bands-make-on-tour-taylor-swift\",\n",
      "    \"published_at\": \"2024-04-25\",\n",
      "    \"updated_at\": \"2024-04-26\"\n",
      "  },\n",
      "  {\n",
      "    \"guid\": \"963441ed749ba7bb4eca93eeda608765\",\n",
      "    \"title\": \"College Protests Sweeping Across the U.S.: See Where They Are Happening\",\n",
      "    \"description\": \"Pro-Palestinian demonstrations are increasing across U.S. university campuses. Hundreds of people have been arrested and graduation ceremonies are in question.\",\n",
      "    \"venue\": \"WSJ\",\n",
      "    \"url\": \"https://www.wsj.com/articles/college-protests-sweeping-across-the-u-s-see-where-they-are-happening-e55c5544\",\n",
      "    \"published_at\": \"2024-04-26\",\n",
      "    \"updated_at\": \"2024-04-26\"\n",
      "  }\n",
      "]\n"
     ]
    }
   ],
   "source": [
    "retrieved_documents = query_news(indices)\n",
    "pprint(retrieved_documents)"
   ]
  },
  {
   "cell_type": "code",
   "execution_count": null,
   "id": "dd6f8069-acf1-4ef1-92ab-42b83133496e",
   "metadata": {},
   "outputs": [],
   "source": []
  },
  {
   "cell_type": "code",
   "execution_count": 10,
   "id": "0fec0155-89aa-4347-b5ab-b39a766998ff",
   "metadata": {
    "tags": []
   },
   "outputs": [],
   "source": [
    "def get_relevant_data(query: str, top_k: int = 5) -> list[dict]:\n",
    "    \"\"\"\n",
    "    Retrieve and return the top relevant data items based on a given query.\n",
    "    \"\"\"\n",
    "    relevant_indices = retrieve(query, top_k)\n",
    "    relevant_data = query_news(relevant_indices)\n",
    "    \n",
    "    return relevant_data"
   ]
  },
  {
   "cell_type": "code",
   "execution_count": 11,
   "id": "32665ffe-f651-413f-a2a1-cd62f5325cf8",
   "metadata": {
    "tags": []
   },
   "outputs": [
    {
     "name": "stdout",
     "output_type": "stream",
     "text": [
      "[\n",
      "  {\n",
      "    \"guid\": \"3ca548fe82c3fcae2c4c0c635d03eb2e\",\n",
      "    \"title\": \"Large tornado seen touching down in Nebraska\",\n",
      "    \"description\": \"Severe and powerful storms have moved across several US states, leaving many experiencing power shortages.\",\n",
      "    \"venue\": \"BBC\",\n",
      "    \"url\": \"https://www.bbc.co.uk/news/world-us-canada-68860070\",\n",
      "    \"published_at\": \"2024-04-26\",\n",
      "    \"updated_at\": \"2024-04-28\"\n",
      "  }\n",
      "]\n"
     ]
    }
   ],
   "source": [
    "query = \"Greatest storms in the US\"\n",
    "relevant_data = get_relevant_data(query, top_k = 1)\n",
    "pprint(relevant_data)"
   ]
  },
  {
   "cell_type": "code",
   "execution_count": null,
   "id": "11896afc-ad08-488c-963d-4937edc91edf",
   "metadata": {},
   "outputs": [],
   "source": []
  },
  {
   "cell_type": "code",
   "execution_count": null,
   "id": "8d60c917-8365-45ad-9d6c-77768bab8a3c",
   "metadata": {},
   "outputs": [],
   "source": []
  },
  {
   "cell_type": "code",
   "execution_count": 12,
   "id": "b96a81e3-8e40-4661-b112-228cde636d10",
   "metadata": {
    "tags": []
   },
   "outputs": [],
   "source": [
    "def format_relevant_data(relevant_data):\n",
    "    \"\"\"\n",
    "    Retrieves the top_k most relevant documents based on a given query and constructs an augmented prompt for a RAG system.\n",
    "\n",
    "    Parameters:\n",
    "    relevant_data (list): A list with relevant data.\n",
    "\n",
    "    Returns:\n",
    "    str: An augmented prompt with the top_k relevant documents, formatted for use in a Retrieval-Augmented Generation (RAG) system.\"\n",
    "    \"\"\"\n",
    "    formatted_documents = []\n",
    "    \n",
    "    for document in relevant_data:\n",
    "        formatted_document = f\"Title: {document['title']}, Description: {document['description']}, \\\n",
    "        Published: {document['published_at']}\\nURL: {document['url']}\\n\"\n",
    "        \n",
    "        formatted_documents.append(formatted_document)\n",
    "\n",
    "    return \"\\n\".join(formatted_documents)"
   ]
  },
  {
   "cell_type": "code",
   "execution_count": null,
   "id": "d71b6783-1853-42b5-8a1f-25bb8981cdb3",
   "metadata": {},
   "outputs": [],
   "source": []
  },
  {
   "cell_type": "code",
   "execution_count": 13,
   "id": "cf27f6d6-a64e-42d9-8290-41f0650f1af1",
   "metadata": {
    "tags": []
   },
   "outputs": [
    {
     "name": "stdout",
     "output_type": "stream",
     "text": [
      "Title: Prosecutors ask for halt to case against Spain PM's wife, Description: Pedro Sánchez is deciding whether to resign after a case against his wife by an anti-corruption group.,         Published: 2024-04-25\n",
      "URL: https://www.bbc.co.uk/news/world-europe-68895727\n",
      "\n",
      "Title: WATCH: Would you pay a tourist fee to enter Venice?, Description: From Thursday visitors making a trip to the famous city at peak times will be charged a trial entrance fee.,         Published: 2024-04-25\n",
      "URL: https://www.bbc.co.uk/news/world-europe-68898441\n",
      "\n",
      "Title: Supreme Court divided on whether Trump has immunity, Description: The justices discussed immunity, coups, pardons, Operation Mongoose - and the future of democracy.,         Published: 2024-04-25\n",
      "URL: https://www.bbc.co.uk/news/world-us-canada-68901817\n",
      "\n",
      "Title: More than 150 killed as heavy rains pound Tanzania, Description: The prime minister warns that El Niño-triggered heavy rains are likely to continue into May.,         Published: 2024-04-25\n",
      "URL: https://www.bbc.co.uk/news/world-africa-68896454\n",
      "\n"
     ]
    }
   ],
   "source": [
    "example_data = NEWS_DATA[4:8]\n",
    "print(format_relevant_data(example_data))"
   ]
  },
  {
   "cell_type": "code",
   "execution_count": null,
   "id": "baec69ad-d415-4b3f-8826-73bd0504668e",
   "metadata": {},
   "outputs": [],
   "source": []
  },
  {
   "cell_type": "code",
   "execution_count": 14,
   "id": "c3c223b2-01f1-42b3-b9c2-e03192bb9c85",
   "metadata": {
    "tags": []
   },
   "outputs": [],
   "source": [
    "def generate_final_prompt(query, top_k=5, use_rag=True, prompt=None):\n",
    "    \"\"\"\n",
    "    Generates a final prompt based on a user query, optionally incorporating relevant data using retrieval-augmented generation (RAG).\n",
    "\n",
    "    Args:\n",
    "        query (str): The user query for which the prompt is to be generated.\n",
    "        top_k (int, optional): The number of top relevant data pieces to retrieve and incorporate. Default is 5.\n",
    "        use_rag (bool, optional): A flag indicating whether to use retrieval-augmented generation (RAG)\n",
    "                                  by including relevant data in the prompt. Default is True.\n",
    "        prompt (str, optional): A template string for the prompt. It can contain placeholders {query} and {documents}\n",
    "                                for formatting with the query and formatted relevant data, respectively.\n",
    "\n",
    "    Returns:\n",
    "        str: The generated prompt, either consisting solely of the query or expanded with relevant data\n",
    "             formatted for additional context.\n",
    "    \"\"\"\n",
    "    \n",
    "    if not use_rag:\n",
    "        return query\n",
    "\n",
    "    # Retrieve the top_k relevant data pieces based on the query\n",
    "    relevant_data = get_relevant_data(query, top_k=top_k)\n",
    "\n",
    "    # Format the retrieved relevant data\n",
    "    retrieve_data_formatted = format_relevant_data(relevant_data)\n",
    "\n",
    "    # If no custom prompt is provided, use the default prompt template\n",
    "    if prompt is None:\n",
    "        prompt = (\n",
    "            f\"Answer the user query below. There will be provided additional information for you to compose your answer. \"\n",
    "            f\"The relevant information provided is from 2024 and it should be added as your overall knowledge to answer the query, \"\n",
    "            f\"you should not rely only on this information to answer the query, but add it to your overall knowledge.\\n\"\n",
    "            f\"Query:\\n{query}\\n\"\n",
    "            f\"2024 News:\\n{retrieve_data_formatted}\"\n",
    "        )\n",
    "    else:\n",
    "        # If a custom prompt is provided, format it with the query and formatted relevant data\n",
    "        prompt = prompt.format(query=query, documents=retrieve_data_formatted)\n",
    "\n",
    "    return prompt"
   ]
  },
  {
   "cell_type": "code",
   "execution_count": 15,
   "id": "7bf52d20-274e-4eff-9ef9-a3f814da89b9",
   "metadata": {
    "tags": []
   },
   "outputs": [
    {
     "name": "stdout",
     "output_type": "stream",
     "text": [
      "Answer the user query below. There will be provided additional information for you to compose your answer. The relevant information provided is from 2024 and it should be added as your overall knowledge to answer the query, you should not rely only on this information to answer the query, but add it to your overall knowledge.\n",
      "Query:\n",
      "Tell me about the US GDP in the past 3 years.\n",
      "2024 News:\n",
      "Title: America's Economy Is No. 1. That Means Trouble, Description: If you want a single number to capture America’s economic stature, here it is: This year, the U.S. will account for 26.3% of the global gross domestic product, the highest in almost two decades. That’s based on the latest projections from the International Monetary Fund. According to the IMF, Europe’s share of world GDP has dropped 1.4 percentage points since 2018, and Japan’s by 2.1 points. The U.S. share, by contrast, is up 2.3 points.,         Published: 2024-04-26\n",
      "URL: https://www.wsj.com/articles/americas-economy-is-no-1-that-means-trouble-d008e4bd\n",
      "\n",
      "Title: Do the GDP and Dow Reflect American Well-Being?, Description: Do the GDP and Dow Reflect American Well-Being?,         Published: 2024-04-25\n",
      "URL: https://www.wsj.com/economy/gdp-and-the-dow-are-up-but-what-about-american-well-being-87f90e6d?mod=wknd_pos1\n",
      "\n",
      "Title: America's Economy Is No. 1. That Means Trouble., Description: Solid growth, big deficits and a strong dollar stir memories of past crises.,         Published: 2024-04-25\n",
      "URL: https://www.wsj.com/articles/us-economy-strongest-world-imf-projections-8e707514\n",
      "\n",
      "Title: Live Markets: Stock Futures Fall, Yields Jump After GDP Report, Description: New data showed U.S. economic growth slowed in the first quarter. Gross domestic product expanded at a 1.6% seasonally- and inflation-adjusted annual rate in the first quarter.,         Published: 2024-04-25\n",
      "URL: https://www.wsj.com/articles/live-markets-updates-c5186430\n",
      "\n",
      "Title: GDP and the Dow Are Up. But What About American Well-Being?, Description: The standard ways of measuring economic growth don’t capture what life is like for real people. A new metric offers a better alternative, especially for seeing disparities across the country.,         Published: 2024-04-25\n",
      "URL: https://www.wsj.com/articles/gdp-and-the-dow-are-up-but-what-about-american-well-being-87f90e6d\n",
      "\n"
     ]
    }
   ],
   "source": [
    "print(generate_final_prompt(\"Tell me about the US GDP in the past 3 years.\"))"
   ]
  },
  {
   "cell_type": "code",
   "execution_count": null,
   "id": "ec70fc81-294f-49d8-b5a1-2da69ed1a570",
   "metadata": {},
   "outputs": [],
   "source": []
  },
  {
   "cell_type": "code",
   "execution_count": 16,
   "id": "b540e8b4-e6be-4969-a2bf-d51f0f2e1db2",
   "metadata": {
    "tags": []
   },
   "outputs": [],
   "source": [
    "def llm_call(query, top_k=5, use_rag=True, prompt=None):\n",
    "    \"\"\"\n",
    "    Calls the LLM to generate a response based on a query, optionally using retrieval-augmented generation.\n",
    "\n",
    "    Returns:\n",
    "        str: The content of the response generated by the language model.\n",
    "    \"\"\"\n",
    "    \n",
    "\n",
    "    # Get the prompt with the query + relevant documents\n",
    "    prompt = generate_final_prompt(query, top_k, use_rag, prompt)\n",
    "\n",
    "    # Call the LLM\n",
    "    generated_response = generate_with_single_input(prompt)\n",
    "\n",
    "    # Get the content\n",
    "    generated_message = generated_response['content']\n",
    "    \n",
    "    return generated_message"
   ]
  },
  {
   "cell_type": "code",
   "execution_count": null,
   "id": "e311dbf0-da59-48fd-8bf8-2a8e00ae0d37",
   "metadata": {},
   "outputs": [],
   "source": []
  },
  {
   "cell_type": "code",
   "execution_count": 17,
   "id": "c6fdf653-6ea3-4fb4-9fa9-d4fe2fd6d578",
   "metadata": {
    "tags": []
   },
   "outputs": [
    {
     "name": "stdout",
     "output_type": "stream",
     "text": [
      "Based on the provided information from 2024, I can give you an overview of the US GDP in the past 3 years. However, please note that the information provided is from 2024 and might not reflect the current situation.\n",
      "\n",
      "According to the International Monetary Fund (IMF) projections in 2024, the US GDP share of the global gross domestic product has been increasing. In 2024, the US is expected to account for 26.3% of the global GDP, the highest in almost two decades.\n",
      "\n",
      "As for the actual GDP growth rates, the information provided does not give a clear picture of the past 3 years. However, it mentions that the US economic growth slowed in the first quarter of 2024, with a 1.6% seasonally- and inflation-adjusted annual rate.\n",
      "\n",
      "To give a more comprehensive answer, I would need more information on the GDP growth rates for the past 3 years. However, based on the available information, here is a rough estimate of the US GDP growth rates for the past 3 years:\n",
      "\n",
      "- 2022: The US GDP growth rate was around 2.1% (note: this information is not provided in the given text, but it is a commonly reported figure)\n",
      "- 2023: The US GDP growth rate was around 1.9% (note: this information is not provided in the given text, but it is a commonly reported figure)\n",
      "- 2024 (first quarter): The US GDP growth rate was 1.6% (as mentioned in the article)\n",
      "\n",
      "Please note that these figures are estimates and might not reflect the actual GDP growth rates for the past 3 years.\n"
     ]
    }
   ],
   "source": [
    "query = \"Tell me about the US GDP in the past 3 years.\"\n",
    "print(llm_call(query, use_rag=True))"
   ]
  },
  {
   "cell_type": "code",
   "execution_count": 18,
   "id": "c1e7c541-64b8-4a61-9b50-3582adbd600b",
   "metadata": {
    "tags": []
   },
   "outputs": [
    {
     "name": "stdout",
     "output_type": "stream",
     "text": [
      "The US GDP (Gross Domestic Product) for the past 3 years (2021-2023) is as follows:\n",
      "\n",
      "1. **2021**: The US GDP in 2021 was $22.67 trillion. The economy experienced a significant rebound from the COVID-19 pandemic, with a growth rate of 5.7% in 2021. This growth was driven by government stimulus packages, vaccination efforts, and a strong labor market.\n",
      "\n",
      "2. **2022**: The US GDP in 2022 was $25.43 trillion. The economy continued to grow, but at a slower pace than in 2021, with a growth rate of 2.1% in 2022. This slowdown was due to various factors, including rising inflation, supply chain disruptions, and the impact of the Russian invasion of Ukraine on global energy markets.\n",
      "\n",
      "3. **2023 (Q1)**: The US GDP in Q1 2023 was $25.73 trillion. The economy experienced a slight contraction in Q1 2023, with a growth rate of -1.6%. This contraction was largely due to a decline in business investment and a decrease in government spending.\n",
      "\n",
      "Please note that these figures are subject to revision and may not reflect the most up-to-date information. Additionally, GDP growth rates can be influenced by various factors, including changes in government policies, global events, and economic trends.\n",
      "\n",
      "Sources:\n",
      "- Bureau of Economic Analysis (BEA)\n",
      "- Federal Reserve Economic Data (FRED)\n",
      "- World Bank Open Data\n"
     ]
    }
   ],
   "source": [
    "query = \"Tell me about the US GDP in the past 3 years.\"\n",
    "print(llm_call(query, use_rag=False))"
   ]
  },
  {
   "cell_type": "code",
   "execution_count": null,
   "id": "684a2251-d35f-4c62-bc8e-f2b5927d09cc",
   "metadata": {},
   "outputs": [],
   "source": []
  },
  {
   "cell_type": "code",
   "execution_count": null,
   "id": "33c5dbe7-1fec-4181-b05f-cd9a8844ae98",
   "metadata": {},
   "outputs": [],
   "source": []
  },
  {
   "cell_type": "code",
   "execution_count": null,
   "id": "fcd669c0-beed-4430-a502-f0a4667f4830",
   "metadata": {},
   "outputs": [],
   "source": []
  },
  {
   "cell_type": "code",
   "execution_count": 19,
   "id": "20fd34c8-155e-411b-91b1-9c4cfbd65cc5",
   "metadata": {
    "tags": []
   },
   "outputs": [
    {
     "data": {
      "application/vnd.jupyter.widget-view+json": {
       "model_id": "a8c19a35d5274fd68dd9f03415072dfa",
       "version_major": 2,
       "version_minor": 0
      },
      "text/plain": [
       "HTML(value='\\n    <style>\\n        .custom-output {\\n            background-color: #f9f9f9;\\n            color…"
      ]
     },
     "metadata": {},
     "output_type": "display_data"
    },
    {
     "data": {
      "application/vnd.jupyter.widget-view+json": {
       "model_id": "31fe000ebf06471c9ab0eb017734563b",
       "version_major": 2,
       "version_minor": 0
      },
      "text/plain": [
       "Text(value='', description='Query:', layout=Layout(width='100%'), placeholder='Type your query here')"
      ]
     },
     "metadata": {},
     "output_type": "display_data"
    },
    {
     "data": {
      "application/vnd.jupyter.widget-view+json": {
       "model_id": "ba8c1767bf4045b6965eccc92d5b0b33",
       "version_major": 2,
       "version_minor": 0
      },
      "text/plain": [
       "Textarea(value='', description='Augmented prompt layout:', layout=Layout(height='100px', width='100%'), placeh…"
      ]
     },
     "metadata": {},
     "output_type": "display_data"
    },
    {
     "data": {
      "application/vnd.jupyter.widget-view+json": {
       "model_id": "9c983864d57749bbaa46e24e57205277",
       "version_major": 2,
       "version_minor": 0
      },
      "text/plain": [
       "IntSlider(value=5, description='Top K:', max=20, min=1, style=SliderStyle(description_width='initial'))"
      ]
     },
     "metadata": {},
     "output_type": "display_data"
    },
    {
     "data": {
      "application/vnd.jupyter.widget-view+json": {
       "model_id": "9f594e5240ac45c8955147368691c1ed",
       "version_major": 2,
       "version_minor": 0
      },
      "text/plain": [
       "Button(description='Get Responses', style=ButtonStyle(button_color='#f0f0f0'))"
      ]
     },
     "metadata": {},
     "output_type": "display_data"
    },
    {
     "data": {
      "application/vnd.jupyter.widget-view+json": {
       "model_id": "188615b16c584eddb37cbcca70a257d3",
       "version_major": 2,
       "version_minor": 0
      },
      "text/plain": [
       "Output()"
      ]
     },
     "metadata": {},
     "output_type": "display_data"
    },
    {
     "data": {
      "application/vnd.jupyter.widget-view+json": {
       "model_id": "39ec48a41c9d4fedb0318cff446749a2",
       "version_major": 2,
       "version_minor": 0
      },
      "text/plain": [
       "HBox(children=(Label(value='With RAG', layout=Layout(width='45%')), Label(value='Without RAG', layout=Layout(w…"
      ]
     },
     "metadata": {},
     "output_type": "display_data"
    },
    {
     "data": {
      "application/vnd.jupyter.widget-view+json": {
       "model_id": "f48c95855381451eadc5ad9135676925",
       "version_major": 2,
       "version_minor": 0
      },
      "text/plain": [
       "HBox(children=(Output(layout=Layout(border_bottom='1px solid #ccc', border_left='1px solid #ccc', border_right…"
      ]
     },
     "metadata": {},
     "output_type": "display_data"
    }
   ],
   "source": [
    "display_widget(llm_call)"
   ]
  },
  {
   "cell_type": "code",
   "execution_count": null,
   "id": "9971c4af-fb61-4eec-829d-a04691c0613b",
   "metadata": {},
   "outputs": [],
   "source": []
  }
 ],
 "metadata": {
  "kernelspec": {
   "display_name": "Python 3 (ipykernel)",
   "language": "python",
   "name": "python3"
  },
  "language_info": {
   "codemirror_mode": {
    "name": "ipython",
    "version": 3
   },
   "file_extension": ".py",
   "mimetype": "text/x-python",
   "name": "python",
   "nbconvert_exporter": "python",
   "pygments_lexer": "ipython3",
   "version": "3.12.11"
  }
 },
 "nbformat": 4,
 "nbformat_minor": 5
}
